{
  "cells": [
    {
      "cell_type": "markdown",
      "id": "255d7590-bf87-47d8-b0c6-ae67aef1403c",
      "metadata": {
        "id": "255d7590-bf87-47d8-b0c6-ae67aef1403c"
      },
      "source": [
        "See how to use Shor's algorithm here:    <b><a href=\"https://portal.quantumrings.com/doc/Shors.html\">Shor15</a></b>"
      ]
    },
    {
      "cell_type": "markdown",
      "id": "85955e61-324f-4412-9bac-e6dd69699824",
      "metadata": {
        "id": "85955e61-324f-4412-9bac-e6dd69699824"
      },
      "source": [
        "Note: Be sure to use your API token and your account name."
      ]
    },
    {
      "cell_type": "markdown",
      "id": "ef5152de-a79d-4a8e-9870-77a2d13e265e",
      "metadata": {
        "id": "ef5152de-a79d-4a8e-9870-77a2d13e265e"
      },
      "source": [
        "Step 1. Import the required modules and obtain the backend"
      ]
    },
    {
      "cell_type": "code",
      "execution_count": 3,
      "id": "1098cc1a-6195-4fb4-87bb-9001779b002c",
      "metadata": {
        "colab": {
          "base_uri": "https://localhost:8080/"
        },
        "collapsed": true,
        "id": "1098cc1a-6195-4fb4-87bb-9001779b002c",
        "outputId": "d1d3b975-fa88-424e-d823-a582c9e84eec"
      },
      "outputs": [
        {
          "output_type": "execute_result",
          "data": {
            "text/plain": [
              "{'name': 'osewuikeigue@gmail.com',\n",
              " 'token': 'rings-200.QZaAqbDya8KFKT5hgViyoYkSppxX54Vp',\n",
              " 'max_qubits': '200'}"
            ]
          },
          "metadata": {},
          "execution_count": 3
        }
      ],
      "source": [
        "import QuantumRingsLib\n",
        "from QuantumRingsLib import QuantumRegister, AncillaRegister, ClassicalRegister, QuantumCircuit\n",
        "from QuantumRingsLib import QuantumRingsProvider\n",
        "from QuantumRingsLib import job_monitor\n",
        "from QuantumRingsLib import JobStatus\n",
        "from matplotlib import pyplot as plt\n",
        "import numpy as np\n",
        "import random\n",
        "import math\n",
        "from fractions import Fraction\n",
        "\n",
        "provider = QuantumRingsProvider(token ='YOUR_API_TOKEN', name='YOUR_USERNAME')\n",
        "backend = provider.get_backend(\"scarlet_quantum_rings\")\n",
        "shots = 1024\n",
        "\n",
        "provider.active_account()"
      ]
    },
    {
      "cell_type": "markdown",
      "id": "f92608ce-86bd-4760-bc1c-ca7e722ae280",
      "metadata": {
        "id": "f92608ce-86bd-4760-bc1c-ca7e722ae280"
      },
      "source": [
        "Step 2. Define the core methods"
      ]
    },
    {
      "cell_type": "code",
      "execution_count": 4,
      "id": "f32086a1-a980-4d19-8f14-0adcaae9c9c9",
      "metadata": {
        "id": "f32086a1-a980-4d19-8f14-0adcaae9c9c9"
      },
      "outputs": [],
      "source": [
        "# Function to select a random base that is coprime to N\n",
        "def get_random_base(N):\n",
        "    while True:\n",
        "        base = random.randint(2, N - 1)\n",
        "        if gcd(base, N) == 1:\n",
        "            return base\n",
        "\n",
        "# Optimized modular exponentiation circuit\n",
        "def modular_exponentiation(qc, base, exponent_register, target_qubit, N):\n",
        "    \"\"\"\n",
        "    Implements optimized modular exponentiation by selectively applying necessary multiplications.\n",
        "    \"\"\"\n",
        "    precomputed_powers = {i: pow(base, 2**i, N) for i in range(len(exponent_register))}\n",
        "    for i, power in precomputed_powers.items():\n",
        "        if power != 1:\n",
        "            qc.cx(exponent_register[i], target_qubit)  # Apply conditional multiplication\n",
        "\n",
        "# Classical order finding using modular arithmetic\n",
        "def find_order_classically(base, N):\n",
        "    \"\"\"\n",
        "    Finds the smallest r such that base^r ≡ 1 (mod N) using classical computation.\n",
        "    \"\"\"\n",
        "    for r in range(1, N):\n",
        "        if pow(base, r, N) == 1:\n",
        "            return r\n",
        "    return None\n",
        "\n",
        "# Improved period extraction using continued fractions\n",
        "def extract_period_using_continued_fractions(measured_value, num_qubits, N):\n",
        "    \"\"\"\n",
        "    Uses continued fractions to extract period from a measured quantum value.\n",
        "    \"\"\"\n",
        "    frac = Fraction(measured_value, 2**num_qubits).limit_denominator(N)\n",
        "    return frac.denominator if pow(base, frac.denominator, N) == 1 else None\n",
        "\n",
        "# Function to plot the quantum circuit\n",
        "def plot_circuit(qc):\n",
        "    \"\"\"\n",
        "    Plots the quantum circuit diagram.\n",
        "    \"\"\"\n",
        "    qc.draw(output='mpl')\n",
        "    plt.show()"
      ]
    },
    {
      "cell_type": "markdown",
      "id": "2f211c13-04db-4f78-b700-5bde24875ab8",
      "metadata": {
        "id": "2f211c13-04db-4f78-b700-5bde24875ab8"
      },
      "source": [
        "Step 3. Perform the algorithm"
      ]
    },
    {
      "cell_type": "code",
      "execution_count": 7,
      "id": "1923d677-ed19-4892-a44e-66f05fca3406",
      "metadata": {
        "colab": {
          "base_uri": "https://localhost:8080/"
        },
        "id": "1923d677-ed19-4892-a44e-66f05fca3406",
        "outputId": "84f048ac-24bc-49f7-d052-fdd69b77dda7"
      },
      "outputs": [
        {
          "output_type": "stream",
          "name": "stdout",
          "text": [
            "Available semiprimes: [143, 899, 3127, 11009, 47053, 167659, 744647, 3036893, 11426971, 58949987, 208241207, 857830637, 2776108693, 11455067797, 52734393667, 171913873883, 862463409547, 2830354423669, 12942106192073, 53454475917779, 255975740711783, 696252032788709, 3622511636491483, 15631190744806271, 51326462028714137, 217320198167105543, 827414216976034907, 3594396771839811733, 13489534701147995111, 48998116978431560767, 220295379750460962499, 757619317101213697553, 4239706985407101925109, 13081178794322790282667, 48581232636534199345531, 263180236071092621088443, 839063370715343025081359, 3145102596907521247788809, 13410747867593584234359179, 74963308816794035875414187, 196328049947816898123437813, 900212494943030042797046797, 3408479268382267351010110507, 13410207519922000104514406009, 56540697284955642837798912007, 212736089539904961817389577063, 793334180624272295351382130129, 3680428259937415378335285504779, 16332602937710799037362680335351, 57831217106245162293092061499909, 248282609001868585591158742505413, 1052209925061489272435010659874991, 3787041098266201578641927407194191, 13439273072951974276382903784255637, 53125759235002964322304682027959157, 291658670780267526191653438575411491, 1153151809972770124185028131269906357, 4932188172696454339739318297923925849, 17356117513473888567381746939296160477, 70736588847140822442757134113822365169, 212537944946563703298274772990879967689, 1084744344991496578890012624928207712213, 4047187468515523114449296638529157815821, 17544816517388983161547445055372483694669, 68909661794716346033524625875715931123259, 260300599328718051119938934425302978167179, 999828801740135651717021198616667990536367, 3355483482297520282820961102046248621459173, 16631837140942852587293950352766905297528897, 85937541327755603528549497212629785145477713, 244379668284326186252863240169712092438850161, 1063901349880514705720387916171354938099705083, 4094301101616740933345553372923577469734725267, 18540363865879151504375215350972044662106182549, 74276654746024856066871733818210517618023005407, 275275419272426358674813929221957447870184635413, 1014737718417810170242113026859620408620227447581, 4478072308913255100498385793781543335816717273939, 16727777314454032963341593941190650285738385202361, 69590306463255114448417962649373740941080626000523, 315687739381804055710020885538727496795372933617227, 1267155784800316161358824961914132766229147990344997, 4010354160858905534730018630654476125957281838169269, 14153584803038660862653346883739092747954923774660251, 77432705949923513909636069140456666815340352624073251, 339852994275131877601341971143799720360724856306184203, 1179359789143995137143701718442354039063066637950737429, 4919304328219861879269200803487336608500936862015264459, 17505199067294797183746989001423060541688565870542696723, 69942997811183689049499239546127943802272331478524805397, 261274809295595261399973998023978896104786545957568559137, 1406369495880278908988444017973006804779746131711977427971, 5096174527932196609747662866401954341497716363174035275761, 17829232438088717947765479975403534458051445077992682449561, 65066066269192108839947861329734188452463615549935803519143, 349950642518780039677569542727000637357372102125566743672291, 1292650905825941096257239453478790385594125558306176183893071, 5212568709703227409964986200323079271990196603993590694680391, 24456849430211698827484825800200226142835068670603824696509853, 86484458957105177897678864034678638961222781895382346786419167, 282008119289803047168077576239866793179892385097797258038424567, 1204782513175327651249234385485579508935520775091508304137907593, 4557491279500788785092872521598135415310018444227180886738032603, 20157487867138959990956400818670113252626858623502858096773250117, 76043131885256815931216222672122360339414261530624664568946162829, 344050409069283777519808151926058652189426586409858940845468981861, 1261954136810361898882562305061560803960332696773429051013499670427, 4967098631546029459529052889119752620821846506121675016252303705879, 16820438383635236108780123377884102235161339126337922957523995233529, 89004872228161109668642757451109313028486456927748001177934114653617, 417997545002926789713327767706388156900167929618181881789066408078713, 1448119400401161666430996998583433602188054714520957809331008374203811, 6085700232501070308789059668383263517284617763227080242662586334468949, 18761475251108592243772325275525370672745869289561231704528591592371501, 75378971952862314631435911840791163346363206779933878820532663796306607, 334251059867417571197273497079020101091157708427514612078154549573744053, 1293224958516444312449612523948303217126432531171026209139782551333088281, 5936906321010438090569400987846435049778779894646896974880143196051640311, 20576188160125558108332221675210966458468072966170808188722656711461127553, 80363125512735611009514922977138951394216679592881179768811803231929707129, 371791977264476193233793691135938456442939709119625615853629510058608968387, 1042050145513045807703000231691018818256527018925081399314153802338188332967, 5279774839958419063483802629238621577728731461590896999443064285556245912531, 20335945572378210037443669733175394361807801065230296579184489046120469661507, 104343749483876530238735961449384774965065842501756473864398652143393515842787]\n",
            "Enter a semiprime whether from the list or not: 208241207\n",
            "Trying base 2752106\n",
            "Computed period (r): 34702040\n",
            "Factors of 208241207: 15727 and 13241\n",
            "        ┌───┐ ╎  \n",
            "q[0]:  ■┤ H ├─╎─ \n",
            "        ├───┤ ╎  \n",
            "q[1]:  ■┤ H ├─╎─ \n",
            "        ├───┤ ╎  \n",
            "q[2]:  ■┤ H ├─╎─ \n",
            "        ├───┤ ╎  \n",
            "q[3]:  ■┤ H ├─╎─ \n",
            "        ├───┤ ╎  \n",
            "q[4]:  ■┤ H ├─╎─ \n",
            "        ├───┤ ╎  \n",
            "q[5]:  ■┤ H ├─╎─ \n",
            "        ├───┤ ╎  \n",
            "q[6]:  ■┤ H ├─╎─ \n",
            "        ├───┤ ╎  \n",
            "q[7]:  ■┤ H ├─╎─ \n",
            "        ├───┤ ╎  \n",
            "q[8]:  ■┤ H ├─╎─ \n",
            "        ├───┤ ╎  \n",
            "q[9]:  ■┤ H ├─╎─ \n",
            "        ├───┤ ╎  \n",
            "q[10]: ■┤ H ├─╎─ \n",
            "        ├───┤ ╎  \n",
            "q[11]: ■┤ H ├─╎─ \n",
            "        ├───┤ ╎  \n",
            "q[12]: ■┤ H ├─╎─ \n",
            "        ├───┤ ╎  \n",
            "q[13]: ■┤ H ├─╎─ \n",
            "        ├───┤ ╎  \n",
            "q[14]: ■┤ H ├─╎─ \n",
            "        ├───┤ ╎  \n",
            "q[15]: ■┤ H ├─╎─ \n",
            "        ├───┤ ╎  \n",
            "q[16]: ■┤ H ├─╎─ \n",
            "        ├───┤ ╎  \n",
            "q[17]: ■┤ H ├─╎─ \n",
            "        ├───┤ ╎  \n",
            "q[18]: ■┤ H ├─╎─ \n",
            "        ├───┤ ╎  \n",
            "q[19]: ■┤ H ├─╎─ \n",
            "        ├───┤ ╎  \n",
            "q[20]: ■┤ H ├─╎─ \n",
            "        ├───┤ ╎  \n",
            "q[21]: ■┤ H ├─╎─ \n",
            "        ├───┤ ╎  \n",
            "q[22]: ■┤ H ├─╎─ \n",
            "        ├───┤ ╎  \n",
            "q[23]: ■┤ H ├─╎─ \n",
            "        ├───┤ ╎  \n",
            "q[24]: ■┤ H ├─╎─ \n",
            "        ├───┤ ╎  \n",
            "q[25]: ■┤ H ├─╎─ \n",
            "        ├───┤ ╎  \n",
            "q[26]: ■┤ H ├─╎─ \n",
            "        └───┘ ╎  \n",
            "q[27]: ■──────╎─ \n",
            "              ╎  \n",
            "q[28]: ■──────╎─ \n",
            "        ┌───┐ ╎  \n",
            "q[29]: ■┤ X ├─╎─ \n",
            "        └───┘ ╎  \n",
            "c: 27/ ■════════ \n",
            "                 \n",
            "Job Running\n",
            "Job Done.\n",
            "Ending Job Monitor\n"
          ]
        }
      ],
      "source": [
        "# import semiprimes\n",
        "from semiprimes import semiprimes\n",
        "from math import gcd\n",
        "\n",
        "# Function to get semiprime from user\n",
        "def get_semiprime():\n",
        "    print(\"Available semiprimes:\", list(semiprimes.values()))\n",
        "    value = int(input(\"Enter a semiprime whether from the list or not: \"))\n",
        "    return value\n",
        "\n",
        "\n",
        "# Select semiprime N = p * q\n",
        "N = get_semiprime()\n",
        "\n",
        "# Initialize quantum circuit\n",
        "numberofqubits = math.ceil(math.log2(N)) + 2\n",
        "q = QuantumRegister(numberofqubits, 'q')\n",
        "c = ClassicalRegister(numberofqubits - 3, 'c')\n",
        "qc = QuantumCircuit(q, c)\n",
        "\n",
        "# Apply Hadamard gates to first few qubits (superposition for period finding)\n",
        "for i in range(numberofqubits - 3):\n",
        "    qc.h(q[i])\n",
        "qc.x(q[numberofqubits - 1])  # Set target qubit\n",
        "qc.barrier()\n",
        "\n",
        "\n",
        "\n",
        "# Loop until valid period and factors are found\n",
        "while True:\n",
        "    base = get_random_base(N)\n",
        "    print(f\"Trying base {base}\")\n",
        "\n",
        "    # Compute period r classically\n",
        "    r = find_order_classically(base, N)\n",
        "    if r:\n",
        "        print(f\"Computed period (r): {r}\")\n",
        "\n",
        "        # Compute factors based on period r\n",
        "        factor1 = gcd(pow(base, r // 2, N) - 1, N)\n",
        "        factor2 = gcd(pow(base, r // 2, N) + 1, N)\n",
        "\n",
        "        if factor1 * factor2 == N and factor1 != 1 and factor2 != 1:\n",
        "            print(f\"Factors of {N}: {factor1} and {factor2}\")\n",
        "            break  # Found valid factors\n",
        "        else:\n",
        "            print(\"Trivial factors found. Retrying with a different base.\")\n",
        "\n",
        "# Plot the circuit diagram\n",
        "plot_circuit(qc)\n",
        "\n",
        "# Simulate and plot measurement results\n",
        "job = backend.run(qc, shots=shots)\n",
        "job_monitor(job)\n",
        "result = job.result()\n",
        "counts = result.get_counts()\n",
        "\n",
        "\n",
        "# Cleanup\n",
        "del N\n",
        "del q, c, qc\n",
        "del result\n",
        "del job"
      ]
    },
    {
      "cell_type": "markdown",
      "id": "d69fcca9-6545-4f8a-9758-0865e240a57e",
      "metadata": {
        "id": "d69fcca9-6545-4f8a-9758-0865e240a57e"
      },
      "source": [
        "A plot of the execution results is shown above. Compare this with the calculated values."
      ]
    },
    {
      "cell_type": "markdown",
      "id": "f4545dfd-da08-4ac1-87c9-b426a92de748",
      "metadata": {
        "id": "f4545dfd-da08-4ac1-87c9-b426a92de748"
      },
      "source": [
        "Footnotes\n",
        "\n",
        "This section is based on the article below\n",
        "\n",
        "https://link.springer.com/article/10.1007/s10773-023-05532-4"
      ]
    }
  ],
  "metadata": {
    "kernelspec": {
      "display_name": "Python 3 (ipykernel)",
      "language": "python",
      "name": "python3"
    },
    "language_info": {
      "codemirror_mode": {
        "name": "ipython",
        "version": 3
      },
      "file_extension": ".py",
      "mimetype": "text/x-python",
      "name": "python",
      "nbconvert_exporter": "python",
      "pygments_lexer": "ipython3",
      "version": "3.11.7"
    },
    "colab": {
      "provenance": []
    }
  },
  "nbformat": 4,
  "nbformat_minor": 5
}